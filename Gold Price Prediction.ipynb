{
 "cells": [
  {
   "cell_type": "code",
   "execution_count": 45,
   "id": "2600bcee-89f3-4bea-9465-a6c9c7d3151f",
   "metadata": {},
   "outputs": [],
   "source": [
    "import pandas as pd\n",
    "import seaborn as sns\n",
    "import matplotlib.pyplot as plt\n",
    "import seaborn as sns\n",
    "from sklearn.model_selection import train_test_split\n",
    "from sklearn.ensemble import RandomForestRegressor\n",
    "from sklearn.metrics import r2_score "
   ]
  },
  {
   "cell_type": "code",
   "execution_count": 46,
   "id": "43182d62-710b-4ff0-a381-d3566d3fe82b",
   "metadata": {},
   "outputs": [],
   "source": [
    "gold = pd.read_csv('gld_price_data.csv')"
   ]
  },
  {
   "cell_type": "code",
   "execution_count": 7,
   "id": "14dec3dd-34be-4b92-9399-51f00602615b",
   "metadata": {},
   "outputs": [
    {
     "data": {
      "text/html": [
       "<div>\n",
       "<style scoped>\n",
       "    .dataframe tbody tr th:only-of-type {\n",
       "        vertical-align: middle;\n",
       "    }\n",
       "\n",
       "    .dataframe tbody tr th {\n",
       "        vertical-align: top;\n",
       "    }\n",
       "\n",
       "    .dataframe thead th {\n",
       "        text-align: right;\n",
       "    }\n",
       "</style>\n",
       "<table border=\"1\" class=\"dataframe\">\n",
       "  <thead>\n",
       "    <tr style=\"text-align: right;\">\n",
       "      <th></th>\n",
       "      <th>Date</th>\n",
       "      <th>SPX</th>\n",
       "      <th>GLD</th>\n",
       "      <th>USO</th>\n",
       "      <th>SLV</th>\n",
       "      <th>EUR/USD</th>\n",
       "    </tr>\n",
       "  </thead>\n",
       "  <tbody>\n",
       "    <tr>\n",
       "      <th>0</th>\n",
       "      <td>1/2/2008</td>\n",
       "      <td>1447.160034</td>\n",
       "      <td>84.860001</td>\n",
       "      <td>78.470001</td>\n",
       "      <td>15.180</td>\n",
       "      <td>1.471692</td>\n",
       "    </tr>\n",
       "    <tr>\n",
       "      <th>1</th>\n",
       "      <td>1/3/2008</td>\n",
       "      <td>1447.160034</td>\n",
       "      <td>85.570000</td>\n",
       "      <td>78.370003</td>\n",
       "      <td>15.285</td>\n",
       "      <td>1.474491</td>\n",
       "    </tr>\n",
       "    <tr>\n",
       "      <th>2</th>\n",
       "      <td>1/4/2008</td>\n",
       "      <td>1411.630005</td>\n",
       "      <td>85.129997</td>\n",
       "      <td>77.309998</td>\n",
       "      <td>15.167</td>\n",
       "      <td>1.475492</td>\n",
       "    </tr>\n",
       "    <tr>\n",
       "      <th>3</th>\n",
       "      <td>1/7/2008</td>\n",
       "      <td>1416.180054</td>\n",
       "      <td>84.769997</td>\n",
       "      <td>75.500000</td>\n",
       "      <td>15.053</td>\n",
       "      <td>1.468299</td>\n",
       "    </tr>\n",
       "    <tr>\n",
       "      <th>4</th>\n",
       "      <td>1/8/2008</td>\n",
       "      <td>1390.189941</td>\n",
       "      <td>86.779999</td>\n",
       "      <td>76.059998</td>\n",
       "      <td>15.590</td>\n",
       "      <td>1.557099</td>\n",
       "    </tr>\n",
       "  </tbody>\n",
       "</table>\n",
       "</div>"
      ],
      "text/plain": [
       "       Date          SPX        GLD        USO     SLV   EUR/USD\n",
       "0  1/2/2008  1447.160034  84.860001  78.470001  15.180  1.471692\n",
       "1  1/3/2008  1447.160034  85.570000  78.370003  15.285  1.474491\n",
       "2  1/4/2008  1411.630005  85.129997  77.309998  15.167  1.475492\n",
       "3  1/7/2008  1416.180054  84.769997  75.500000  15.053  1.468299\n",
       "4  1/8/2008  1390.189941  86.779999  76.059998  15.590  1.557099"
      ]
     },
     "execution_count": 7,
     "metadata": {},
     "output_type": "execute_result"
    }
   ],
   "source": [
    "gold.head()"
   ]
  },
  {
   "cell_type": "code",
   "execution_count": 8,
   "id": "b5772d83-7683-46a6-b43e-a988d3d04863",
   "metadata": {},
   "outputs": [
    {
     "data": {
      "text/plain": [
       "(2290, 6)"
      ]
     },
     "execution_count": 8,
     "metadata": {},
     "output_type": "execute_result"
    }
   ],
   "source": [
    "gold.shape\n"
   ]
  },
  {
   "cell_type": "code",
   "execution_count": 25,
   "id": "1a9f4568-e379-41b2-8139-d249718d814d",
   "metadata": {},
   "outputs": [
    {
     "name": "stdout",
     "output_type": "stream",
     "text": [
      "<class 'pandas.core.frame.DataFrame'>\n",
      "RangeIndex: 2290 entries, 0 to 2289\n",
      "Data columns (total 6 columns):\n",
      " #   Column   Non-Null Count  Dtype  \n",
      "---  ------   --------------  -----  \n",
      " 0   Date     2290 non-null   object \n",
      " 1   SPX      2290 non-null   float64\n",
      " 2   GLD      2290 non-null   float64\n",
      " 3   USO      2290 non-null   float64\n",
      " 4   SLV      2290 non-null   float64\n",
      " 5   EUR/USD  2290 non-null   float64\n",
      "dtypes: float64(5), object(1)\n",
      "memory usage: 107.5+ KB\n"
     ]
    }
   ],
   "source": [
    "gold.info()"
   ]
  },
  {
   "cell_type": "code",
   "execution_count": 26,
   "id": "e8c832fd-e5f4-4b87-b301-8369f76d3b67",
   "metadata": {},
   "outputs": [
    {
     "data": {
      "text/plain": [
       "Date       0\n",
       "SPX        0\n",
       "GLD        0\n",
       "USO        0\n",
       "SLV        0\n",
       "EUR/USD    0\n",
       "dtype: int64"
      ]
     },
     "execution_count": 26,
     "metadata": {},
     "output_type": "execute_result"
    }
   ],
   "source": [
    "gold.isnull().sum()"
   ]
  },
  {
   "cell_type": "code",
   "execution_count": 31,
   "id": "3de89e0b-3a92-4ddf-860c-801b7df0c716",
   "metadata": {},
   "outputs": [
    {
     "data": {
      "text/html": [
       "<div>\n",
       "<style scoped>\n",
       "    .dataframe tbody tr th:only-of-type {\n",
       "        vertical-align: middle;\n",
       "    }\n",
       "\n",
       "    .dataframe tbody tr th {\n",
       "        vertical-align: top;\n",
       "    }\n",
       "\n",
       "    .dataframe thead th {\n",
       "        text-align: right;\n",
       "    }\n",
       "</style>\n",
       "<table border=\"1\" class=\"dataframe\">\n",
       "  <thead>\n",
       "    <tr style=\"text-align: right;\">\n",
       "      <th></th>\n",
       "      <th>SPX</th>\n",
       "      <th>GLD</th>\n",
       "      <th>USO</th>\n",
       "      <th>SLV</th>\n",
       "      <th>EUR/USD</th>\n",
       "    </tr>\n",
       "  </thead>\n",
       "  <tbody>\n",
       "    <tr>\n",
       "      <th>count</th>\n",
       "      <td>2290.000000</td>\n",
       "      <td>2290.000000</td>\n",
       "      <td>2290.000000</td>\n",
       "      <td>2290.000000</td>\n",
       "      <td>2290.000000</td>\n",
       "    </tr>\n",
       "    <tr>\n",
       "      <th>mean</th>\n",
       "      <td>1654.315776</td>\n",
       "      <td>122.732875</td>\n",
       "      <td>31.842221</td>\n",
       "      <td>20.084997</td>\n",
       "      <td>1.283653</td>\n",
       "    </tr>\n",
       "    <tr>\n",
       "      <th>std</th>\n",
       "      <td>519.111540</td>\n",
       "      <td>23.283346</td>\n",
       "      <td>19.523517</td>\n",
       "      <td>7.092566</td>\n",
       "      <td>0.131547</td>\n",
       "    </tr>\n",
       "    <tr>\n",
       "      <th>min</th>\n",
       "      <td>676.530029</td>\n",
       "      <td>70.000000</td>\n",
       "      <td>7.960000</td>\n",
       "      <td>8.850000</td>\n",
       "      <td>1.039047</td>\n",
       "    </tr>\n",
       "    <tr>\n",
       "      <th>25%</th>\n",
       "      <td>1239.874969</td>\n",
       "      <td>109.725000</td>\n",
       "      <td>14.380000</td>\n",
       "      <td>15.570000</td>\n",
       "      <td>1.171313</td>\n",
       "    </tr>\n",
       "    <tr>\n",
       "      <th>50%</th>\n",
       "      <td>1551.434998</td>\n",
       "      <td>120.580002</td>\n",
       "      <td>33.869999</td>\n",
       "      <td>17.268500</td>\n",
       "      <td>1.303297</td>\n",
       "    </tr>\n",
       "    <tr>\n",
       "      <th>75%</th>\n",
       "      <td>2073.010070</td>\n",
       "      <td>132.840004</td>\n",
       "      <td>37.827501</td>\n",
       "      <td>22.882500</td>\n",
       "      <td>1.369971</td>\n",
       "    </tr>\n",
       "    <tr>\n",
       "      <th>max</th>\n",
       "      <td>2872.870117</td>\n",
       "      <td>184.589996</td>\n",
       "      <td>117.480003</td>\n",
       "      <td>47.259998</td>\n",
       "      <td>1.598798</td>\n",
       "    </tr>\n",
       "  </tbody>\n",
       "</table>\n",
       "</div>"
      ],
      "text/plain": [
       "               SPX          GLD          USO          SLV      EUR/USD\n",
       "count  2290.000000  2290.000000  2290.000000  2290.000000  2290.000000\n",
       "mean   1654.315776   122.732875    31.842221    20.084997     1.283653\n",
       "std     519.111540    23.283346    19.523517     7.092566     0.131547\n",
       "min     676.530029    70.000000     7.960000     8.850000     1.039047\n",
       "25%    1239.874969   109.725000    14.380000    15.570000     1.171313\n",
       "50%    1551.434998   120.580002    33.869999    17.268500     1.303297\n",
       "75%    2073.010070   132.840004    37.827501    22.882500     1.369971\n",
       "max    2872.870117   184.589996   117.480003    47.259998     1.598798"
      ]
     },
     "execution_count": 31,
     "metadata": {},
     "output_type": "execute_result"
    }
   ],
   "source": [
    "gold.describe()"
   ]
  },
  {
   "cell_type": "code",
   "execution_count": 30,
   "id": "201b44a6-44fa-442d-9513-47f2f3bce6d4",
   "metadata": {},
   "outputs": [],
   "source": [
    "numeric_data = gold.select_dtypes(include=['float64', 'int64'])"
   ]
  },
  {
   "cell_type": "code",
   "execution_count": 32,
   "id": "24811a51-7322-4f04-ac4f-6328b3bef331",
   "metadata": {},
   "outputs": [],
   "source": [
    "correlation = numeric_data.corr()"
   ]
  },
  {
   "cell_type": "code",
   "execution_count": 33,
   "id": "4795b8a7-4023-4d82-8574-88250dc434e9",
   "metadata": {},
   "outputs": [
    {
     "data": {
      "image/png": "[encoded data removed]",
      "text/plain": [
       "<Figure size 600x600 with 2 Axes>"
      ]
     },
     "metadata": {},
     "output_type": "display_data"
    }
   ],
   "source": [
    "plt.figure(figsize=(6, 6))\n",
    "sns.heatmap(correlation, cbar=True, square=True, annot=True, annot_kws={\"size\": 8}, cmap=\"plasma\")\n",
    "plt.title(\"Correlation Heatmap\")\n",
    "plt.show()"
   ]
  },
  {
   "cell_type": "code",
   "execution_count": 35,
   "id": "36d53cfc-d675-4b8a-97ab-b7e28ab32dfe",
   "metadata": {},
   "outputs": [
    {
     "name": "stdout",
     "output_type": "stream",
     "text": [
      "SPX        0.049345\n",
      "GLD        1.000000\n",
      "USO       -0.186360\n",
      "SLV        0.866632\n",
      "EUR/USD   -0.024375\n",
      "Name: GLD, dtype: float64\n"
     ]
    }
   ],
   "source": [
    "print(correlation['GLD'])"
   ]
  },
  {
   "cell_type": "code",
   "execution_count": 36,
   "id": "09301d7c-380d-4407-8417-456a8613e506",
   "metadata": {},
   "outputs": [
    {
     "data": {
      "text/plain": [
       "<seaborn.axisgrid.FacetGrid at 0x1f865877230>"
      ]
     },
     "execution_count": 36,
     "metadata": {},
     "output_type": "execute_result"
    },
    {
     "data": {
      "image/png": "[encoded data removed]",
      "text/plain": [
       "<Figure size 500x500 with 1 Axes>"
      ]
     },
     "metadata": {},
     "output_type": "display_data"
    }
   ],
   "source": [
    "sns.displot(gold['GLD'],color='green')"
   ]
  },
  {
   "cell_type": "code",
   "execution_count": 37,
   "id": "ea09063a-d310-453a-989a-63f9fa7a670a",
   "metadata": {},
   "outputs": [],
   "source": [
    "# Split the features and target\n",
    "X = gold.drop(['Date' , 'GLD'],axis=1)\n",
    "y = gold['GLD']\n"
   ]
  },
  {
   "cell_type": "code",
   "execution_count": 38,
   "id": "77ffcfd0-16ab-4607-9ae3-48104257c82e",
   "metadata": {},
   "outputs": [
    {
     "data": {
      "text/plain": [
       "(2290, 4)"
      ]
     },
     "execution_count": 38,
     "metadata": {},
     "output_type": "execute_result"
    }
   ],
   "source": [
    "X.shape\n"
   ]
  },
  {
   "cell_type": "code",
   "execution_count": 39,
   "id": "4ee4f6a7-e3bc-41fe-8069-98d533eca66a",
   "metadata": {},
   "outputs": [
    {
     "data": {
      "text/plain": [
       "(2290,)"
      ]
     },
     "execution_count": 39,
     "metadata": {},
     "output_type": "execute_result"
    }
   ],
   "source": [
    "y.shape"
   ]
  },
  {
   "cell_type": "code",
   "execution_count": 41,
   "id": "75fe45e4-ced1-4f9d-ba3a-5c8f04d65f62",
   "metadata": {},
   "outputs": [],
   "source": [
    "#training the model \n",
    "X_train, X_test, y_train, y_test = train_test_split(X,y,test_size=0.2, random_state=42)"
   ]
  },
  {
   "cell_type": "code",
   "execution_count": 42,
   "id": "cc6fa36f-1d94-43b5-9096-9d60372b296f",
   "metadata": {},
   "outputs": [
    {
     "name": "stdout",
     "output_type": "stream",
     "text": [
      "Shape of X_train: (1832, 4)\n",
      "Shape of X_test: (458, 4)\n",
      "Shape of y_train: (1832,)\n",
      "Shape of y_test: (458,)\n"
     ]
    }
   ],
   "source": [
    "print(\"Shape of X_train:\", X_train.shape)\n",
    "print(\"Shape of X_test:\", X_test.shape)\n",
    "print(\"Shape of y_train:\", y_train.shape)\n",
    "print(\"Shape of y_test:\", y_test.shape)"
   ]
  },
  {
   "cell_type": "code",
   "execution_count": 43,
   "id": "fdd42f4e-b4e7-4905-be0b-bd30ceadf4d9",
   "metadata": {},
   "outputs": [
    {
     "name": "stdout",
     "output_type": "stream",
     "text": [
      "X_train sample:\n",
      "              SPX         USO        SLV   EUR/USD\n",
      "1018  1413.489990   36.220001  28.920000  1.253447\n",
      "1870  2085.449951   11.740000  16.420000  1.132824\n",
      "118   1245.359985  109.250000  18.545000  1.585590\n",
      "220    805.219971   28.660000  11.090000  1.288494\n",
      "2053  2328.949951   11.130000  17.530001  1.061639\n",
      "y_train sample:\n",
      "1018    160.539993\n",
      "1870    120.900002\n",
      "118      94.440002\n",
      "220      84.519997\n",
      "2053    122.599998\n",
      "Name: GLD, dtype: float64\n"
     ]
    }
   ],
   "source": [
    "# Preview the first 5 rows of the training features\n",
    "print(\"X_train sample:\")\n",
    "print(X_train.head())\n",
    "\n",
    "# Preview the first 5 rows of the training target\n",
    "print(\"y_train sample:\")\n",
    "print(y_train.head())\n"
   ]
  },
  {
   "cell_type": "code",
   "execution_count": 47,
   "id": "6d6e8e16-5dbd-4e61-8251-de86a99bbf06",
   "metadata": {},
   "outputs": [
    {
     "data": {
      "text/plain": [
       "0.9900152728775834"
      ]
     },
     "execution_count": 47,
     "metadata": {},
     "output_type": "execute_result"
    }
   ],
   "source": [
    "reg = RandomForestRegressor()\n",
    "reg.fit(X_train,y_train)\n",
    "pred = reg.predict(X_test)\n",
    "r2_score(y_test,pred)"
   ]
  },
  {
   "cell_type": "code",
   "execution_count": 48,
   "id": "82b1eaaa-8d07-4894-afde-49779bc150e6",
   "metadata": {},
   "outputs": [
    {
     "name": "stdout",
     "output_type": "stream",
     "text": [
      "[122.52889942 131.01770277 127.61449923  96.77229766 118.82690041\n",
      " 114.54029947 124.83870123 117.83279917 108.02150084  98.2410995\n",
      "  95.46099927 167.4115984  148.19880191 116.60870018 171.0699019\n",
      "  85.1263996  123.11549901 109.40549712 113.17350068 131.81280267\n",
      " 124.2672992  113.71030059 116.25140032 108.62619955 108.28870137\n",
      " 125.88139919 119.96719929 112.29279936 113.48890158 125.5565984\n",
      " 146.29900148  89.5611001  167.86589982 113.4942996  108.47420124\n",
      " 120.07410143 141.6841982  161.28970087 174.09899807 153.2291015\n",
      " 119.05000123 113.57450071 121.35979951 113.61489913 121.84740001\n",
      " 107.83220063  88.52919871 114.55709918 129.76660239 117.96690104\n",
      " 104.05440026 129.74870259 107.45759864 160.76030328 131.67880058\n",
      " 117.98239968 147.10239983 135.70960233  95.499901   124.64150162\n",
      " 115.23859827  86.32070095 104.28439909 114.02830081  84.32729937\n",
      " 122.17850042 116.51959885 113.69170195 166.04930281  92.32250021\n",
      "  80.41110081 160.90780093 158.57940213 106.63610012 148.64020109\n",
      " 109.81299754 123.18730039 128.75570209 113.48199897 120.041201\n",
      " 135.51229745 107.30580086  93.79980085  92.7513987  111.61470057\n",
      " 118.49260004 108.72699911 112.30269982 168.21649964 160.6445985\n",
      " 107.62769856 125.34590016 108.23169985 115.31910188 126.76349774\n",
      " 108.56489951 162.55650305  84.36429878 131.6582029  114.5612999\n",
      " 155.93660013 110.22059803 113.71419977 107.60439982 137.44890029\n",
      "  88.35549968  92.48469899 175.6073014  118.91550091 118.6751002\n",
      " 121.25410052 171.62659763 131.72660076 119.91610047 157.51540213\n",
      " 118.97719825 119.22749978 110.62719955 120.20909948 122.11069993\n",
      " 129.15449821 114.82900004  89.49159926 114.44420124 131.5875993\n",
      " 115.50420131 124.67370005  90.97640022 106.7451007  117.08030135\n",
      " 109.4245996  166.45060174  80.45120104 122.01179879  72.85680156\n",
      " 111.34609933 100.31300079 124.0041002   76.16100012 124.41209924\n",
      " 119.85700064 105.65889982  90.64859907 131.98099975 137.43210221\n",
      " 176.43209946 126.6901994  126.51279897 123.54109966  92.05489859\n",
      " 150.51870141 102.92629864 117.72740024 135.59629909 135.96829946\n",
      " 118.1983005  116.84320167 102.18159817 123.98789869  89.67870016\n",
      " 108.28379928 117.69340039 166.75980099 117.08720073 117.77139979\n",
      " 155.58420142 111.25000033  87.22849885 116.65710121 124.30569931\n",
      " 120.63970237 118.21440019  96.58029852 109.28480004 115.04819893\n",
      " 127.73170138 156.22680035 107.85530085 124.22559937 139.7691027\n",
      "  91.03090069 118.1750012  130.49380086 114.25609905 108.46779951\n",
      " 119.04420054 127.86950081 125.68420036 145.02840145 112.62800053\n",
      "  93.60949964 115.15950012 125.50120078 120.30840142 122.36530057\n",
      "  92.81960087 121.53999884  93.05580015 119.04270022 124.50860006\n",
      " 121.8822001  131.01440013 124.31299931 114.82130143 127.42930081\n",
      " 113.22480067 165.44429954 122.46389767 119.79560199 112.84640013\n",
      " 120.08379968 120.17529967 105.86870153 116.63180062 125.71669891\n",
      " 172.14219761  85.63550007 135.16549903 127.76709885  74.09290064\n",
      " 119.20279985  88.7372998  162.98870278  92.14509956 158.78030132\n",
      " 102.36829823 102.94429972 102.52349859 118.54729922 165.28260036\n",
      " 120.07550121 135.6683995   96.59169826 113.21499963 132.22480111\n",
      " 145.88500053 125.55320044 101.57109988 125.37640039 160.12530166\n",
      " 119.77820083 126.49530076 127.5520015  115.49719954 156.82730176\n",
      " 128.92149929 114.3074995  177.04089917 119.88190189 118.90510138\n",
      " 102.74699876 160.62419987 114.92180074 118.42459978 125.69989945\n",
      " 116.64490123 114.72779975  90.77639972 101.51499999 132.07510128\n",
      " 118.80400242 168.23399884 107.86060117  86.41950068  91.69889965\n",
      " 155.85359851 158.89980017 153.05179942  73.06320018 120.88150027\n",
      " 117.18500032 157.90020004 135.70579919 111.89609982 113.90749972\n",
      " 161.01900237 125.62039979 119.73520057 117.98159987 158.68150279\n",
      " 104.08539969  89.48369941  82.82639904  89.9781999  115.48850048\n",
      " 113.66470013 119.5672014  119.51960094  79.2974001   90.67590101\n",
      " 153.5862031  119.48740091 131.61800003 126.90540186 113.65620124\n",
      "  82.33330072 118.00899848  89.83720066 117.99059974 163.30660249\n",
      " 121.30060084 110.4658     125.38979883 114.27720048 135.73470024\n",
      "  80.13210078 163.9657005  132.50190157 164.15980143 127.77719906\n",
      "  91.7447989  108.49129893 113.8537994  127.59680138 119.42870169\n",
      "  92.4822993  132.01389948 162.66790122  72.11560149 111.98770023\n",
      " 108.69619954 113.57609806 120.1512007  112.19109963 120.96909981\n",
      " 118.41720195 126.36000096 125.90080167 109.4508996  167.81699997\n",
      " 166.28059898 112.38829934 169.54909735 111.98040009 161.65400101\n",
      " 127.54629848 167.69789963 135.1145018  109.29919895 167.25949954\n",
      " 116.48030147  72.67640132 113.5166001   93.32009996  87.75470027\n",
      " 104.11319888 125.85840061 123.40789773 168.10199879 121.42980011\n",
      "  87.27059829 131.66169806 121.76720022 107.87499956 166.68400057\n",
      " 126.06549769 127.11890143 113.63790076 134.93400044 125.23910104\n",
      " 144.09589916 123.41559916 118.32450063 120.88589983 166.98870007\n",
      "  71.62500054 162.97949928 167.64929875 118.44020088 103.62009835\n",
      " 128.13669853 154.63900028 171.95990033 135.06259743 126.97910002\n",
      " 124.42690054 152.94299766  87.82760008 131.20240127 110.89740095\n",
      " 164.7739004  156.58859925 166.38880095 121.65329969  90.22890019\n",
      " 132.06730233 100.07950004 127.56279809 127.87369792 108.91149917\n",
      "  90.99749911 153.2181016   95.16139878  88.01549961 124.89469957\n",
      "  87.12709796  95.69490119 113.47799967 156.23000267 147.42250129\n",
      " 105.2434003  166.72779715 111.23590001 128.42830005  90.73159965\n",
      " 109.7271998   76.61170098 110.76249982 163.27059886 154.79049857\n",
      " 152.43690204 161.98639991  92.19619876 117.82000157  94.3371013\n",
      " 129.04980048 117.43440021 117.21920038 124.16890059 120.8754001\n",
      "  97.77419938 167.41020101 145.90860117 124.51779868 168.86739896\n",
      "  84.25379956 166.8012984  130.4305025  119.76160165  88.6548001\n",
      " 119.97449859  83.68149888 118.74590109 113.59909896 116.6304996\n",
      " 153.43429835 135.10710328 118.23210126 118.95329861 123.19759881\n",
      " 115.43350123 118.47450026 122.23410047 144.9038002  150.97599977\n",
      " 168.35170075  97.96529921 160.28660036  93.35090036 141.19739893\n",
      " 121.57960075  84.09179889 106.42279992 123.90029981 169.57839652\n",
      "  93.42419877  96.33370083 153.18570013]\n"
     ]
    }
   ],
   "source": [
    "print(pred)"
   ]
  },
  {
   "cell_type": "code",
   "execution_count": null,
   "id": "e4137b74-8dfc-45c4-b1d6-64c2774478dd",
   "metadata": {},
   "outputs": [],
   "source": []
  }
 ],
 "metadata": {
  "kernelspec": {
   "display_name": "Python 3 (ipykernel)",
   "language": "python",
   "name": "python3"
  },
  "language_info": {
   "codemirror_mode": {
    "name": "ipython",
    "version": 3
   },
   "file_extension": ".py",
   "mimetype": "text/x-python",
   "name": "python",
   "nbconvert_exporter": "python",
   "pygments_lexer": "ipython3",
   "version": "3.13.0"
  }
 },
 "nbformat": 4,
 "nbformat_minor": 5
}
